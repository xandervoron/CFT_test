{
 "cells": [
  {
   "cell_type": "code",
   "execution_count": 1,
   "metadata": {},
   "outputs": [],
   "source": [
    "import pandas as pd"
   ]
  },
  {
   "cell_type": "code",
   "execution_count": 2,
   "metadata": {
    "scrolled": false
   },
   "outputs": [],
   "source": [
    "df_train_purch = pd.read_csv('https://www.dropbox.com/s/fxm6ffz3a5seu6k/train_purch.csv?dl=1')\n",
    "df_clients2 = pd.read_csv('https://www.dropbox.com/s/b020sd2fdzq936p/clients2.csv?dl=1')\n",
    "df_products = pd.read_csv('https://www.dropbox.com/s/1u8pz9rwk80wmfv/products.csv?dl=1')\n",
    "df_train = pd.read_csv('https://www.dropbox.com/s/zgfmxpas92pkuc2/train.csv?dl=1')"
   ]
  },
  {
   "cell_type": "markdown",
   "metadata": {},
   "source": [
    "### Посмотрим на данные"
   ]
  },
  {
   "cell_type": "code",
   "execution_count": 3,
   "metadata": {
    "scrolled": false
   },
   "outputs": [
    {
     "name": "stdout",
     "output_type": "stream",
     "text": [
      "---TRAIN_PURCH---\n"
     ]
    },
    {
     "data": {
      "text/html": [
       "<div>\n",
       "<style scoped>\n",
       "    .dataframe tbody tr th:only-of-type {\n",
       "        vertical-align: middle;\n",
       "    }\n",
       "\n",
       "    .dataframe tbody tr th {\n",
       "        vertical-align: top;\n",
       "    }\n",
       "\n",
       "    .dataframe thead th {\n",
       "        text-align: right;\n",
       "    }\n",
       "</style>\n",
       "<table border=\"1\" class=\"dataframe\">\n",
       "  <thead>\n",
       "    <tr style=\"text-align: right;\">\n",
       "      <th></th>\n",
       "      <th>client_id</th>\n",
       "      <th>transaction_id</th>\n",
       "      <th>transaction_datetime</th>\n",
       "      <th>regular_points_received</th>\n",
       "      <th>express_points_received</th>\n",
       "      <th>regular_points_spent</th>\n",
       "      <th>express_points_spent</th>\n",
       "      <th>purchase_sum</th>\n",
       "      <th>store_id</th>\n",
       "      <th>product_id</th>\n",
       "      <th>product_quantity</th>\n",
       "      <th>trn_sum_from_iss</th>\n",
       "      <th>trn_sum_from_red</th>\n",
       "    </tr>\n",
       "  </thead>\n",
       "  <tbody>\n",
       "    <tr>\n",
       "      <th>0</th>\n",
       "      <td>000012768d</td>\n",
       "      <td>7e3e2e3984</td>\n",
       "      <td>2018-12-01 07:12:45</td>\n",
       "      <td>10.0</td>\n",
       "      <td>0.0</td>\n",
       "      <td>0.0</td>\n",
       "      <td>0.0</td>\n",
       "      <td>1007.0</td>\n",
       "      <td>54a4a11a29</td>\n",
       "      <td>9a80204f78</td>\n",
       "      <td>2.0</td>\n",
       "      <td>80.0</td>\n",
       "      <td>NaN</td>\n",
       "    </tr>\n",
       "    <tr>\n",
       "      <th>1</th>\n",
       "      <td>000012768d</td>\n",
       "      <td>7e3e2e3984</td>\n",
       "      <td>2018-12-01 07:12:45</td>\n",
       "      <td>10.0</td>\n",
       "      <td>0.0</td>\n",
       "      <td>0.0</td>\n",
       "      <td>0.0</td>\n",
       "      <td>1007.0</td>\n",
       "      <td>54a4a11a29</td>\n",
       "      <td>da89ebd374</td>\n",
       "      <td>1.0</td>\n",
       "      <td>65.0</td>\n",
       "      <td>NaN</td>\n",
       "    </tr>\n",
       "    <tr>\n",
       "      <th>2</th>\n",
       "      <td>000012768d</td>\n",
       "      <td>7e3e2e3984</td>\n",
       "      <td>2018-12-01 07:12:45</td>\n",
       "      <td>10.0</td>\n",
       "      <td>0.0</td>\n",
       "      <td>0.0</td>\n",
       "      <td>0.0</td>\n",
       "      <td>1007.0</td>\n",
       "      <td>54a4a11a29</td>\n",
       "      <td>0a95e1151d</td>\n",
       "      <td>1.0</td>\n",
       "      <td>24.0</td>\n",
       "      <td>NaN</td>\n",
       "    </tr>\n",
       "    <tr>\n",
       "      <th>3</th>\n",
       "      <td>000012768d</td>\n",
       "      <td>7e3e2e3984</td>\n",
       "      <td>2018-12-01 07:12:45</td>\n",
       "      <td>10.0</td>\n",
       "      <td>0.0</td>\n",
       "      <td>0.0</td>\n",
       "      <td>0.0</td>\n",
       "      <td>1007.0</td>\n",
       "      <td>54a4a11a29</td>\n",
       "      <td>4055b15e4a</td>\n",
       "      <td>2.0</td>\n",
       "      <td>50.0</td>\n",
       "      <td>NaN</td>\n",
       "    </tr>\n",
       "    <tr>\n",
       "      <th>4</th>\n",
       "      <td>000012768d</td>\n",
       "      <td>7e3e2e3984</td>\n",
       "      <td>2018-12-01 07:12:45</td>\n",
       "      <td>10.0</td>\n",
       "      <td>0.0</td>\n",
       "      <td>0.0</td>\n",
       "      <td>0.0</td>\n",
       "      <td>1007.0</td>\n",
       "      <td>54a4a11a29</td>\n",
       "      <td>a685f1916b</td>\n",
       "      <td>1.0</td>\n",
       "      <td>22.0</td>\n",
       "      <td>NaN</td>\n",
       "    </tr>\n",
       "  </tbody>\n",
       "</table>\n",
       "</div>"
      ],
      "text/plain": [
       "    client_id transaction_id transaction_datetime  regular_points_received  \\\n",
       "0  000012768d     7e3e2e3984  2018-12-01 07:12:45                     10.0   \n",
       "1  000012768d     7e3e2e3984  2018-12-01 07:12:45                     10.0   \n",
       "2  000012768d     7e3e2e3984  2018-12-01 07:12:45                     10.0   \n",
       "3  000012768d     7e3e2e3984  2018-12-01 07:12:45                     10.0   \n",
       "4  000012768d     7e3e2e3984  2018-12-01 07:12:45                     10.0   \n",
       "\n",
       "   express_points_received  regular_points_spent  express_points_spent  \\\n",
       "0                      0.0                   0.0                   0.0   \n",
       "1                      0.0                   0.0                   0.0   \n",
       "2                      0.0                   0.0                   0.0   \n",
       "3                      0.0                   0.0                   0.0   \n",
       "4                      0.0                   0.0                   0.0   \n",
       "\n",
       "   purchase_sum    store_id  product_id  product_quantity  trn_sum_from_iss  \\\n",
       "0        1007.0  54a4a11a29  9a80204f78               2.0              80.0   \n",
       "1        1007.0  54a4a11a29  da89ebd374               1.0              65.0   \n",
       "2        1007.0  54a4a11a29  0a95e1151d               1.0              24.0   \n",
       "3        1007.0  54a4a11a29  4055b15e4a               2.0              50.0   \n",
       "4        1007.0  54a4a11a29  a685f1916b               1.0              22.0   \n",
       "\n",
       "   trn_sum_from_red  \n",
       "0               NaN  \n",
       "1               NaN  \n",
       "2               NaN  \n",
       "3               NaN  \n",
       "4               NaN  "
      ]
     },
     "metadata": {},
     "output_type": "display_data"
    },
    {
     "name": "stdout",
     "output_type": "stream",
     "text": [
      "<class 'pandas.core.frame.DataFrame'>\n",
      "RangeIndex: 15998952 entries, 0 to 15998951\n",
      "Data columns (total 13 columns):\n",
      " #   Column                   Dtype  \n",
      "---  ------                   -----  \n",
      " 0   client_id                object \n",
      " 1   transaction_id           object \n",
      " 2   transaction_datetime     object \n",
      " 3   regular_points_received  float64\n",
      " 4   express_points_received  float64\n",
      " 5   regular_points_spent     float64\n",
      " 6   express_points_spent     float64\n",
      " 7   purchase_sum             float64\n",
      " 8   store_id                 object \n",
      " 9   product_id               object \n",
      " 10  product_quantity         float64\n",
      " 11  trn_sum_from_iss         float64\n",
      " 12  trn_sum_from_red         float64\n",
      "dtypes: float64(8), object(5)\n",
      "memory usage: 1.5+ GB\n",
      "None\n",
      "\n",
      "---CLIENTS2---\n"
     ]
    },
    {
     "data": {
      "text/html": [
       "<div>\n",
       "<style scoped>\n",
       "    .dataframe tbody tr th:only-of-type {\n",
       "        vertical-align: middle;\n",
       "    }\n",
       "\n",
       "    .dataframe tbody tr th {\n",
       "        vertical-align: top;\n",
       "    }\n",
       "\n",
       "    .dataframe thead th {\n",
       "        text-align: right;\n",
       "    }\n",
       "</style>\n",
       "<table border=\"1\" class=\"dataframe\">\n",
       "  <thead>\n",
       "    <tr style=\"text-align: right;\">\n",
       "      <th></th>\n",
       "      <th>client_id</th>\n",
       "      <th>client_id.1</th>\n",
       "      <th>first_issue_date</th>\n",
       "      <th>first_redeem_date</th>\n",
       "      <th>age</th>\n",
       "      <th>gender</th>\n",
       "    </tr>\n",
       "  </thead>\n",
       "  <tbody>\n",
       "    <tr>\n",
       "      <th>0</th>\n",
       "      <td>000012768d</td>\n",
       "      <td>NaN</td>\n",
       "      <td>2017-08-05 15:40:48</td>\n",
       "      <td>2018-01-04 19:30:07</td>\n",
       "      <td>45</td>\n",
       "      <td>U</td>\n",
       "    </tr>\n",
       "    <tr>\n",
       "      <th>1</th>\n",
       "      <td>000036f903</td>\n",
       "      <td>NaN</td>\n",
       "      <td>2017-04-10 13:54:23</td>\n",
       "      <td>2017-04-23 12:37:56</td>\n",
       "      <td>72</td>\n",
       "      <td>F</td>\n",
       "    </tr>\n",
       "    <tr>\n",
       "      <th>2</th>\n",
       "      <td>00010925a5</td>\n",
       "      <td>NaN</td>\n",
       "      <td>2018-07-24 16:21:29</td>\n",
       "      <td>2018-09-14 16:12:49</td>\n",
       "      <td>83</td>\n",
       "      <td>U</td>\n",
       "    </tr>\n",
       "    <tr>\n",
       "      <th>3</th>\n",
       "      <td>0001f552b0</td>\n",
       "      <td>NaN</td>\n",
       "      <td>2017-06-30 19:20:38</td>\n",
       "      <td>2018-08-28 12:59:45</td>\n",
       "      <td>33</td>\n",
       "      <td>F</td>\n",
       "    </tr>\n",
       "    <tr>\n",
       "      <th>4</th>\n",
       "      <td>00020e7b18</td>\n",
       "      <td>NaN</td>\n",
       "      <td>2017-11-27 11:41:45</td>\n",
       "      <td>2018-01-10 17:50:05</td>\n",
       "      <td>73</td>\n",
       "      <td>U</td>\n",
       "    </tr>\n",
       "  </tbody>\n",
       "</table>\n",
       "</div>"
      ],
      "text/plain": [
       "    client_id  client_id.1     first_issue_date    first_redeem_date  age  \\\n",
       "0  000012768d          NaN  2017-08-05 15:40:48  2018-01-04 19:30:07   45   \n",
       "1  000036f903          NaN  2017-04-10 13:54:23  2017-04-23 12:37:56   72   \n",
       "2  00010925a5          NaN  2018-07-24 16:21:29  2018-09-14 16:12:49   83   \n",
       "3  0001f552b0          NaN  2017-06-30 19:20:38  2018-08-28 12:59:45   33   \n",
       "4  00020e7b18          NaN  2017-11-27 11:41:45  2018-01-10 17:50:05   73   \n",
       "\n",
       "  gender  \n",
       "0      U  \n",
       "1      F  \n",
       "2      U  \n",
       "3      F  \n",
       "4      U  "
      ]
     },
     "metadata": {},
     "output_type": "display_data"
    },
    {
     "name": "stdout",
     "output_type": "stream",
     "text": [
      "<class 'pandas.core.frame.DataFrame'>\n",
      "RangeIndex: 200039 entries, 0 to 200038\n",
      "Data columns (total 6 columns):\n",
      " #   Column             Non-Null Count   Dtype  \n",
      "---  ------             --------------   -----  \n",
      " 0   client_id          200039 non-null  object \n",
      " 1   client_id.1        0 non-null       float64\n",
      " 2   first_issue_date   200039 non-null  object \n",
      " 3   first_redeem_date  182493 non-null  object \n",
      " 4   age                200039 non-null  int64  \n",
      " 5   gender             200039 non-null  object \n",
      "dtypes: float64(1), int64(1), object(4)\n",
      "memory usage: 9.2+ MB\n",
      "None\n",
      "\n",
      "---PRODUCTS---\n"
     ]
    },
    {
     "data": {
      "text/html": [
       "<div>\n",
       "<style scoped>\n",
       "    .dataframe tbody tr th:only-of-type {\n",
       "        vertical-align: middle;\n",
       "    }\n",
       "\n",
       "    .dataframe tbody tr th {\n",
       "        vertical-align: top;\n",
       "    }\n",
       "\n",
       "    .dataframe thead th {\n",
       "        text-align: right;\n",
       "    }\n",
       "</style>\n",
       "<table border=\"1\" class=\"dataframe\">\n",
       "  <thead>\n",
       "    <tr style=\"text-align: right;\">\n",
       "      <th></th>\n",
       "      <th>product_id</th>\n",
       "      <th>level_1</th>\n",
       "      <th>level_2</th>\n",
       "      <th>level_3</th>\n",
       "      <th>level_4</th>\n",
       "      <th>segment_id</th>\n",
       "      <th>brand_id</th>\n",
       "      <th>vendor_id</th>\n",
       "      <th>netto</th>\n",
       "      <th>is_own_trademark</th>\n",
       "      <th>is_alcohol</th>\n",
       "    </tr>\n",
       "  </thead>\n",
       "  <tbody>\n",
       "    <tr>\n",
       "      <th>0</th>\n",
       "      <td>0003020d3c</td>\n",
       "      <td>c3d3a8e8c6</td>\n",
       "      <td>c2a3ea8d5e</td>\n",
       "      <td>b7cda0ec0c</td>\n",
       "      <td>6376f2a852</td>\n",
       "      <td>123.0</td>\n",
       "      <td>394a54a7c1</td>\n",
       "      <td>9eaff48661</td>\n",
       "      <td>0.400</td>\n",
       "      <td>0</td>\n",
       "      <td>0</td>\n",
       "    </tr>\n",
       "    <tr>\n",
       "      <th>1</th>\n",
       "      <td>0003870676</td>\n",
       "      <td>e344ab2e71</td>\n",
       "      <td>52f13dac0c</td>\n",
       "      <td>d3cfe81323</td>\n",
       "      <td>6dc544533f</td>\n",
       "      <td>105.0</td>\n",
       "      <td>acd3dd483f</td>\n",
       "      <td>10486c3cf0</td>\n",
       "      <td>0.680</td>\n",
       "      <td>0</td>\n",
       "      <td>0</td>\n",
       "    </tr>\n",
       "    <tr>\n",
       "      <th>2</th>\n",
       "      <td>0003ceaf69</td>\n",
       "      <td>c3d3a8e8c6</td>\n",
       "      <td>f2333c90fb</td>\n",
       "      <td>419bc5b424</td>\n",
       "      <td>f6148afbc0</td>\n",
       "      <td>271.0</td>\n",
       "      <td>f597581079</td>\n",
       "      <td>764e660dda</td>\n",
       "      <td>0.500</td>\n",
       "      <td>0</td>\n",
       "      <td>0</td>\n",
       "    </tr>\n",
       "    <tr>\n",
       "      <th>3</th>\n",
       "      <td>000701e093</td>\n",
       "      <td>ec62ce61e3</td>\n",
       "      <td>4202626fcb</td>\n",
       "      <td>88a515c084</td>\n",
       "      <td>48cf3d488f</td>\n",
       "      <td>172.0</td>\n",
       "      <td>54a90fe769</td>\n",
       "      <td>03c2d70bad</td>\n",
       "      <td>0.112</td>\n",
       "      <td>0</td>\n",
       "      <td>0</td>\n",
       "    </tr>\n",
       "    <tr>\n",
       "      <th>4</th>\n",
       "      <td>0007149564</td>\n",
       "      <td>e344ab2e71</td>\n",
       "      <td>52f13dac0c</td>\n",
       "      <td>d3cfe81323</td>\n",
       "      <td>6dc544533f</td>\n",
       "      <td>105.0</td>\n",
       "      <td>63417fe1f3</td>\n",
       "      <td>f329130198</td>\n",
       "      <td>0.600</td>\n",
       "      <td>0</td>\n",
       "      <td>0</td>\n",
       "    </tr>\n",
       "  </tbody>\n",
       "</table>\n",
       "</div>"
      ],
      "text/plain": [
       "   product_id     level_1     level_2     level_3     level_4  segment_id  \\\n",
       "0  0003020d3c  c3d3a8e8c6  c2a3ea8d5e  b7cda0ec0c  6376f2a852       123.0   \n",
       "1  0003870676  e344ab2e71  52f13dac0c  d3cfe81323  6dc544533f       105.0   \n",
       "2  0003ceaf69  c3d3a8e8c6  f2333c90fb  419bc5b424  f6148afbc0       271.0   \n",
       "3  000701e093  ec62ce61e3  4202626fcb  88a515c084  48cf3d488f       172.0   \n",
       "4  0007149564  e344ab2e71  52f13dac0c  d3cfe81323  6dc544533f       105.0   \n",
       "\n",
       "     brand_id   vendor_id  netto  is_own_trademark  is_alcohol  \n",
       "0  394a54a7c1  9eaff48661  0.400                 0           0  \n",
       "1  acd3dd483f  10486c3cf0  0.680                 0           0  \n",
       "2  f597581079  764e660dda  0.500                 0           0  \n",
       "3  54a90fe769  03c2d70bad  0.112                 0           0  \n",
       "4  63417fe1f3  f329130198  0.600                 0           0  "
      ]
     },
     "metadata": {},
     "output_type": "display_data"
    },
    {
     "name": "stdout",
     "output_type": "stream",
     "text": [
      "<class 'pandas.core.frame.DataFrame'>\n",
      "RangeIndex: 43038 entries, 0 to 43037\n",
      "Data columns (total 11 columns):\n",
      " #   Column            Non-Null Count  Dtype  \n",
      "---  ------            --------------  -----  \n",
      " 0   product_id        43038 non-null  object \n",
      " 1   level_1           43035 non-null  object \n",
      " 2   level_2           43035 non-null  object \n",
      " 3   level_3           43035 non-null  object \n",
      " 4   level_4           43035 non-null  object \n",
      " 5   segment_id        41466 non-null  float64\n",
      " 6   brand_id          37838 non-null  object \n",
      " 7   vendor_id         43004 non-null  object \n",
      " 8   netto             43035 non-null  float64\n",
      " 9   is_own_trademark  43038 non-null  int64  \n",
      " 10  is_alcohol        43038 non-null  int64  \n",
      "dtypes: float64(2), int64(2), object(7)\n",
      "memory usage: 3.6+ MB\n",
      "None\n",
      "\n",
      "---TRAIN---\n"
     ]
    },
    {
     "data": {
      "text/html": [
       "<div>\n",
       "<style scoped>\n",
       "    .dataframe tbody tr th:only-of-type {\n",
       "        vertical-align: middle;\n",
       "    }\n",
       "\n",
       "    .dataframe tbody tr th {\n",
       "        vertical-align: top;\n",
       "    }\n",
       "\n",
       "    .dataframe thead th {\n",
       "        text-align: right;\n",
       "    }\n",
       "</style>\n",
       "<table border=\"1\" class=\"dataframe\">\n",
       "  <thead>\n",
       "    <tr style=\"text-align: right;\">\n",
       "      <th></th>\n",
       "      <th>client_id</th>\n",
       "      <th>treatment_flg</th>\n",
       "      <th>target</th>\n",
       "    </tr>\n",
       "  </thead>\n",
       "  <tbody>\n",
       "    <tr>\n",
       "      <th>0</th>\n",
       "      <td>ad6561e2d8</td>\n",
       "      <td>1</td>\n",
       "      <td>1</td>\n",
       "    </tr>\n",
       "    <tr>\n",
       "      <th>1</th>\n",
       "      <td>7c1ccbf93f</td>\n",
       "      <td>1</td>\n",
       "      <td>1</td>\n",
       "    </tr>\n",
       "    <tr>\n",
       "      <th>2</th>\n",
       "      <td>b58fadcab6</td>\n",
       "      <td>1</td>\n",
       "      <td>1</td>\n",
       "    </tr>\n",
       "    <tr>\n",
       "      <th>3</th>\n",
       "      <td>e99e6fabb9</td>\n",
       "      <td>0</td>\n",
       "      <td>0</td>\n",
       "    </tr>\n",
       "    <tr>\n",
       "      <th>4</th>\n",
       "      <td>27fb6f8520</td>\n",
       "      <td>1</td>\n",
       "      <td>1</td>\n",
       "    </tr>\n",
       "  </tbody>\n",
       "</table>\n",
       "</div>"
      ],
      "text/plain": [
       "    client_id  treatment_flg  target\n",
       "0  ad6561e2d8              1       1\n",
       "1  7c1ccbf93f              1       1\n",
       "2  b58fadcab6              1       1\n",
       "3  e99e6fabb9              0       0\n",
       "4  27fb6f8520              1       1"
      ]
     },
     "metadata": {},
     "output_type": "display_data"
    },
    {
     "name": "stdout",
     "output_type": "stream",
     "text": [
      "<class 'pandas.core.frame.DataFrame'>\n",
      "RangeIndex: 140027 entries, 0 to 140026\n",
      "Data columns (total 3 columns):\n",
      " #   Column         Non-Null Count   Dtype \n",
      "---  ------         --------------   ----- \n",
      " 0   client_id      140027 non-null  object\n",
      " 1   treatment_flg  140027 non-null  int64 \n",
      " 2   target         140027 non-null  int64 \n",
      "dtypes: int64(2), object(1)\n",
      "memory usage: 3.2+ MB\n",
      "None\n"
     ]
    }
   ],
   "source": [
    "print('---TRAIN_PURCH---')\n",
    "display(df_train_purch.head())\n",
    "print(df_train_purch.info())\n",
    "print('\\n---CLIENTS2---')\n",
    "display(df_clients2.head())\n",
    "print(df_clients2.info())\n",
    "print('\\n---PRODUCTS---')\n",
    "display(df_products.head())\n",
    "print(df_products.info())\n",
    "print('\\n---TRAIN---')\n",
    "display(df_train.head())\n",
    "print(df_train.info())"
   ]
  },
  {
   "cell_type": "markdown",
   "metadata": {},
   "source": [
    "### Оставим только те колонки, которые нам могут понадобиться"
   ]
  },
  {
   "cell_type": "code",
   "execution_count": 4,
   "metadata": {},
   "outputs": [
    {
     "name": "stdout",
     "output_type": "stream",
     "text": [
      "---TRAIN_PURCH---\n",
      "<class 'pandas.core.frame.DataFrame'>\n",
      "RangeIndex: 15998952 entries, 0 to 15998951\n",
      "Data columns (total 6 columns):\n",
      " #   Column                Dtype         \n",
      "---  ------                -----         \n",
      " 0   client_id             object        \n",
      " 1   transaction_id        object        \n",
      " 2   transaction_datetime  datetime64[ns]\n",
      " 3   purchase_sum          float64       \n",
      " 4   product_id            object        \n",
      " 5   product_quantity      float64       \n",
      "dtypes: datetime64[ns](1), float64(2), object(3)\n",
      "memory usage: 732.4+ MB\n",
      "None\n",
      "\n",
      "---CLIENTS2---\n",
      "<class 'pandas.core.frame.DataFrame'>\n",
      "RangeIndex: 200039 entries, 0 to 200038\n",
      "Data columns (total 5 columns):\n",
      " #   Column             Non-Null Count   Dtype         \n",
      "---  ------             --------------   -----         \n",
      " 0   client_id          200039 non-null  object        \n",
      " 1   first_issue_date   200039 non-null  datetime64[ns]\n",
      " 2   first_redeem_date  182493 non-null  datetime64[ns]\n",
      " 3   age                200039 non-null  int64         \n",
      " 4   gender             200039 non-null  object        \n",
      "dtypes: datetime64[ns](2), int64(1), object(2)\n",
      "memory usage: 7.6+ MB\n",
      "None\n",
      "\n",
      "---PRODUCTS---\n",
      "<class 'pandas.core.frame.DataFrame'>\n",
      "RangeIndex: 43038 entries, 0 to 43037\n",
      "Data columns (total 2 columns):\n",
      " #   Column            Non-Null Count  Dtype \n",
      "---  ------            --------------  ----- \n",
      " 0   product_id        43038 non-null  object\n",
      " 1   is_own_trademark  43038 non-null  int64 \n",
      "dtypes: int64(1), object(1)\n",
      "memory usage: 672.6+ KB\n",
      "None\n"
     ]
    }
   ],
   "source": [
    "df_train_purch = df_train_purch[['client_id','transaction_id','transaction_datetime','purchase_sum','product_id','product_quantity']]\n",
    "df_train_purch['transaction_datetime'] = df_train_purch['transaction_datetime'].astype('datetime64')\n",
    "df_clients2 = df_clients2.drop(columns = 'client_id.1')\n",
    "df_clients2['first_issue_date'] = df_clients2['first_issue_date'].astype('datetime64')\n",
    "df_clients2['first_redeem_date'] = df_clients2['first_redeem_date'].astype('datetime64')\n",
    "df_products = df_products[['product_id','is_own_trademark']]\n",
    "print('---TRAIN_PURCH---')\n",
    "print(df_train_purch.info())\n",
    "print('\\n---CLIENTS2---')\n",
    "print(df_clients2.info())\n",
    "print('\\n---PRODUCTS---')\n",
    "print(df_products.info())"
   ]
  },
  {
   "cell_type": "markdown",
   "metadata": {},
   "source": [
    "# Вопросы в тестовом задании"
   ]
  },
  {
   "cell_type": "code",
   "execution_count": 5,
   "metadata": {},
   "outputs": [],
   "source": [
    "uplift = df_train.loc[df_train['treatment_flg']==1, 'target'].mean() - df_train.loc[df_train['treatment_flg']==0, 'target'].mean()\n",
    "train_list = list(df_train['client_id'])\n",
    "\n",
    "up_50 = df_clients2[(df_clients2['client_id'].isin(train_list)) & (df_clients2['age']>=50)]['client_id']\n",
    "down_50 = df_clients2[(df_clients2['client_id'].isin(train_list)) & (df_clients2['age']<50)]['client_id']\n",
    "uplift_50up = df_train.loc[(df_train['treatment_flg']==1 & df_train['client_id'].isin(up_50)), 'target'].mean() - df_train.loc[(df_train['treatment_flg']==0 & df_train['client_id'].isin(up_50)), 'target'].mean()\n",
    "uplift_50down = df_train.loc[(df_train['treatment_flg']==1 & df_train['client_id'].isin(down_50)), 'target'].mean() - df_train.loc[(df_train['treatment_flg']==0 & df_train['client_id'].isin(down_50)), 'target'].mean()\n",
    "\n",
    "df_train_timegaps = df_train_purch[['client_id','transaction_datetime']].drop_duplicates().groupby('client_id').apply(lambda x: x.diff().mean())\n",
    "\n",
    "own_product_list = list(df_products[df_products['is_own_trademark']==1]['product_id'])"
   ]
  },
  {
   "cell_type": "markdown",
   "metadata": {},
   "source": [
    "### Вопрос 1"
   ]
  },
  {
   "cell_type": "markdown",
   "metadata": {},
   "source": [
    "Какое значение аплифта на всем трейне (train.csv)"
   ]
  },
  {
   "cell_type": "code",
   "execution_count": 6,
   "metadata": {},
   "outputs": [
    {
     "name": "stdout",
     "output_type": "stream",
     "text": [
      "Аплифт на всем трейне 0.034\n",
      "\n"
     ]
    }
   ],
   "source": [
    "print(f\"Аплифт на всем трейне {uplift:.2}\\n\")"
   ]
  },
  {
   "cell_type": "markdown",
   "metadata": {},
   "source": [
    "### Вопрос 2"
   ]
  },
  {
   "cell_type": "markdown",
   "metadata": {},
   "source": [
    "Выберите правильные утверждения:  \n",
    "1) В трейне мужчин больше чем женщин  \n",
    "2) Медианный возраст всех людей в трейне равен 39 годам  \n",
    "3) Последняя покупка в train_purch была совершена в марте 2018 года  \n",
    "4) Аплифт для людей старше 50 лет больше чем в два раза выше чем у остальных людей"
   ]
  },
  {
   "cell_type": "code",
   "execution_count": 7,
   "metadata": {},
   "outputs": [
    {
     "name": "stdout",
     "output_type": "stream",
     "text": [
      "1. Возрастное распределение клиентов в трейне\n",
      "gender\n",
      "U    64965\n",
      "F    51559\n",
      "M    23503\n",
      "Name: client_id, dtype: int64\n",
      "Женшин больше, чем мужчин\n",
      "\n",
      "2. Медианный возраст всех людей в трейне 45.0\n",
      "\n",
      "3. Последняя покупка в трейне состоялась 2019-03-18 23:19:28\n",
      "\n",
      "4. Аплифт 50+ в 1.8 раза больше аплифта остальных\n"
     ]
    }
   ],
   "source": [
    "print(f\"1. Возрастное распределение клиентов в трейне\\n{df_clients2[df_clients2['client_id'].isin(train_list)].groupby('gender')['client_id'].count().sort_values(ascending=False)}\\nЖеншин больше, чем мужчин\\n\")\n",
    "print(f\"2. Медианный возраст всех людей в трейне {df_clients2[df_clients2['client_id'].isin(train_list)]['age'].median()}\\n\")\n",
    "print(f\"3. Последняя покупка в трейне состоялась {df_train_purch['transaction_datetime'].max()}\\n\")\n",
    "print(f\"4. Аплифт 50+ в {uplift_50up / uplift_50down:.2} раза больше аплифта остальных\")"
   ]
  },
  {
   "cell_type": "markdown",
   "metadata": {},
   "source": [
    "### Вопрос 3"
   ]
  },
  {
   "cell_type": "markdown",
   "metadata": {},
   "source": [
    "На какую максимальную сумму в train_purch была совершена покупка? (округлить до целого)  \n",
    "- 21983  \n",
    "- 29611  \n",
    "- 44259  \n",
    "- 54364  \n",
    "- Здесь такого числа нет"
   ]
  },
  {
   "cell_type": "code",
   "execution_count": 8,
   "metadata": {},
   "outputs": [
    {
     "name": "stdout",
     "output_type": "stream",
     "text": [
      "Максимальная сумма покупки 29611.48\n"
     ]
    }
   ],
   "source": [
    "print(f\"Максимальная сумма покупки {df_train_purch['purchase_sum'].max()}\")"
   ]
  },
  {
   "cell_type": "markdown",
   "metadata": {},
   "source": [
    "### Вопрос 4"
   ]
  },
  {
   "cell_type": "markdown",
   "metadata": {},
   "source": [
    "Раз в сколько дней в среднем покупатели ходят за покупками? (округлить до целого)"
   ]
  },
  {
   "cell_type": "code",
   "execution_count": 9,
   "metadata": {},
   "outputs": [
    {
     "name": "stdout",
     "output_type": "stream",
     "text": [
      "Средняя частота покупок 9 days 07:32:26.770712154\n"
     ]
    }
   ],
   "source": [
    "print(f\"Средняя частота покупок {df_train_timegaps['transaction_datetime'].mean()}\")"
   ]
  },
  {
   "cell_type": "markdown",
   "metadata": {},
   "source": [
    "Варианты ответа 2, 3, 4, 5. У меня получилось 9. Непонятно."
   ]
  },
  {
   "cell_type": "markdown",
   "metadata": {},
   "source": [
    "### Вопрос 5"
   ]
  },
  {
   "cell_type": "markdown",
   "metadata": {},
   "source": [
    "Какого значения аплифта можно достичь, если осуществить воздействие на людей, с момента последней покупки которых прошло 10 и более дней?  \n",
    "- 3.02%  \n",
    "- 3.72%  \n",
    "- 4.15%  \n",
    "- 6.32%"
   ]
  },
  {
   "cell_type": "markdown",
   "metadata": {},
   "source": [
    "Не понимаю. У меня есть даты покупок, но нет дат воздействия на клиентов. Как сортировать?  \n",
    "Предположил, что время воздействия как-то связано с first_issue_date во фрейме clients2. Но максимальная дельта там 15 часов. Ни о каких 10 днях и более речь не идет."
   ]
  },
  {
   "cell_type": "markdown",
   "metadata": {},
   "source": [
    "### Вопрос 6"
   ]
  },
  {
   "cell_type": "markdown",
   "metadata": {},
   "source": [
    "Какова доля продукции собственного производства в покупках среди всех покупок?  \n",
    "- 3.42%  \n",
    "- 11.2%  \n",
    "- 13.1%  \n",
    "- 15.2%"
   ]
  },
  {
   "cell_type": "code",
   "execution_count": 10,
   "metadata": {},
   "outputs": [
    {
     "name": "stdout",
     "output_type": "stream",
     "text": [
      "Доля собственных продуктов в продажах составляет 0.1523\n"
     ]
    }
   ],
   "source": [
    "print(f\"Доля собственных продуктов в продажах составляет {df_train_purch[df_train_purch['product_id'].isin(own_product_list)]['transaction_id'].count() / df_train_purch['transaction_id'].count():.4}\")"
   ]
  },
  {
   "cell_type": "markdown",
   "metadata": {},
   "source": [
    "### Вопрос 7"
   ]
  },
  {
   "cell_type": "markdown",
   "metadata": {},
   "source": [
    "Влияет ли факт покупки самого популярного продукта на аплифт? Если влияет, то каково значение аплифта?  \n",
    "1. Не влияет  \n",
    "2. Влияет, 0.35%  \n",
    "3. Влияет, 2.64%  \n",
    "4. Влияет, 4.86%"
   ]
  },
  {
   "cell_type": "code",
   "execution_count": 11,
   "metadata": {},
   "outputs": [
    {
     "data": {
      "text/plain": [
       "0.9826499602476436"
      ]
     },
     "execution_count": 11,
     "metadata": {},
     "output_type": "execute_result"
    }
   ],
   "source": [
    "# Самый популярный продукт\n",
    "pop_product_id = df_train_purch['product_id'].value_counts().index[0]\n",
    "# список клиентов, купивших этот продукт\n",
    "pop_prod_client_list = list(df_train_purch[df_train_purch['product_id']==pop_product_id]['client_id'].drop_duplicates())\n",
    "uplift_pop = df_train.loc[(df_train['client_id'].isin(pop_prod_client_list) & df_train['treatment_flg']==1), 'target'].mean() - df_train.loc[(df_train['client_id'].isin(pop_prod_client_list) & df_train['treatment_flg']==0), 'target'].mean()\n",
    "uplift_pop / uplift"
   ]
  },
  {
   "cell_type": "markdown",
   "metadata": {},
   "source": [
    "Похоже, что аплифт упал на 1.7%"
   ]
  },
  {
   "cell_type": "code",
   "execution_count": 12,
   "metadata": {},
   "outputs": [
    {
     "name": "stdout",
     "output_type": "stream",
     "text": [
      "Значение аплифта с самым популярным товаром 0.033\n"
     ]
    }
   ],
   "source": [
    "print(f\"Значение аплифта с самым популярным товаром {uplift_pop:.2}\")"
   ]
  },
  {
   "cell_type": "markdown",
   "metadata": {},
   "source": [
    "### Вопрос 8"
   ]
  },
  {
   "cell_type": "markdown",
   "metadata": {},
   "source": [
    "Разделим покупателей на две группы: владеют картой покупателя > 100 дней (группа А), владеют картой покупателя <= 100 дней (группа Б). Правда ли то, что аплифт в группе А меньше, чем в группе Б? Если правда, то на сколько меньше (разница между процентами)?  \n",
    "- Не правда  \n",
    "- Правда, 1%  \n",
    "- Правда, 2%  \n",
    "- Правда, 3%"
   ]
  },
  {
   "cell_type": "markdown",
   "metadata": {},
   "source": [
    "Не понимаю, где взять срок владения."
   ]
  },
  {
   "cell_type": "markdown",
   "metadata": {},
   "source": [
    "### Вопрос 9"
   ]
  },
  {
   "cell_type": "markdown",
   "metadata": {},
   "source": [
    "Разделим покупателей на две группы: покупали продукты собственного производста хоть раз (группа А), вообще не покупали продукты собственного производства (группа Б). Правда ли то, что аплифт в группе А меньше чем в группе Б? Если правда, то на сколько меньше?  \n",
    "- Не правда  \n",
    "- Правда, всего 1%  \n",
    "- Правда, 2%  \n",
    "- Правда, почти 5%  "
   ]
  },
  {
   "cell_type": "code",
   "execution_count": 13,
   "metadata": {},
   "outputs": [
    {
     "name": "stdout",
     "output_type": "stream",
     "text": [
      "Аплифт клиентов, которые покупали продукцию нашего производства: 0.0467519621487984\n",
      "Аплифт клиентов, которые никогда не покупали продукцию нашего производства: -0.22136412819892948\n"
     ]
    }
   ],
   "source": [
    "# список продуктов собственного производства\n",
    "own_prod_list = list(df_products[df_products['is_own_trademark']==1]['product_id'].drop_duplicates())\n",
    "# список всех покупателей\n",
    "cl_list = set(df_train_purch['client_id'])\n",
    "# список покупателей собственной продукции\n",
    "own_cl_list = set(df_train_purch[df_train_purch['product_id'].isin(own_prod_list)]['client_id'])\n",
    "non_own_cl_list = list(cl_list - own_cl_list)\n",
    "own_cl_list = list(own_cl_list)\n",
    "\n",
    "uplift_own = df_train.loc[(df_train['client_id'].isin(own_cl_list) & df_train['treatment_flg']==1), 'target'].mean() - df_train.loc[(df_train['client_id'].isin(own_cl_list) & df_train['treatment_flg']==0), 'target'].mean()\n",
    "uplift_non_own = df_train.loc[(df_train['client_id'].isin(non_own_cl_list) & df_train['treatment_flg']==1), 'target'].mean() - df_train.loc[(df_train['client_id'].isin(non_own_cl_list) & df_train['treatment_flg']==0), 'target'].mean()\n",
    "print(f\"Аплифт клиентов, которые покупали продукцию нашего производства: {uplift_own}\")\n",
    "print(f\"Аплифт клиентов, которые никогда не покупали продукцию нашего производства: {uplift_non_own}\")"
   ]
  },
  {
   "cell_type": "markdown",
   "metadata": {},
   "source": [
    "### Вопрос 10"
   ]
  },
  {
   "cell_type": "markdown",
   "metadata": {},
   "source": [
    "Разделим покупателей на две группы: сумма покупок которых больше среднего чека по всей выборке (группа А), сумма покупок которых меньше среднего чека по всей выборке (группа Б). Правда ли то, что аплифт в группе А меньше, чем в группе Б?  \n",
    "- Не правда\n",
    "- Правда, 0.6%\n",
    "- Правда, 1.3%\n",
    "- Правда, 2.1%"
   ]
  },
  {
   "cell_type": "code",
   "execution_count": 14,
   "metadata": {},
   "outputs": [
    {
     "name": "stdout",
     "output_type": "stream",
     "text": [
      "Аплифт в группе А 0.14612674040560936\n",
      "Аплифт в группе B -0.038542523836676\n"
     ]
    }
   ],
   "source": [
    "client_spendings = df_train_purch[['client_id','purchase_sum']].groupby('client_id').sum().reset_index()\n",
    "mean_sum = client_spendings['purchase_sum'].mean()\n",
    "client_spendings_a = list(client_spendings[client_spendings['purchase_sum'] > mean_sum]['client_id'])\n",
    "client_spendings_b = list(client_spendings[client_spendings['purchase_sum'] < mean_sum]['client_id'])\n",
    "uplift_a = df_train.loc[(df_train['client_id'].isin(client_spendings_a) & df_train['treatment_flg']==1), 'target'].mean() - df_train.loc[(df_train['client_id'].isin(client_spendings_a) & df_train['treatment_flg']==0), 'target'].mean()\n",
    "uplift_b = df_train.loc[(df_train['client_id'].isin(client_spendings_b) & df_train['treatment_flg']==1), 'target'].mean() - df_train.loc[(df_train['client_id'].isin(client_spendings_b) & df_train['treatment_flg']==0), 'target'].mean()\n",
    "print(f\"Аплифт в группе А {uplift_a}\")\n",
    "print(f\"Аплифт в группе B {uplift_b}\")"
   ]
  },
  {
   "cell_type": "markdown",
   "metadata": {},
   "source": [
    "### Предположение по 5 вопросу"
   ]
  },
  {
   "cell_type": "code",
   "execution_count": 15,
   "metadata": {},
   "outputs": [
    {
     "name": "stdout",
     "output_type": "stream",
     "text": [
      "0 days 02:54:55.461150667\n"
     ]
    },
    {
     "name": "stderr",
     "output_type": "stream",
     "text": [
      "<ipython-input-15-41b16ba3d09f>:5: SettingWithCopyWarning: \n",
      "A value is trying to be set on a copy of a slice from a DataFrame.\n",
      "Try using .loc[row_indexer,col_indexer] = value instead\n",
      "\n",
      "See the caveats in the documentation: https://pandas.pydata.org/pandas-docs/stable/user_guide/indexing.html#returning-a-view-versus-a-copy\n",
      "  df_dates2['delta'] = df_dates2['first_issue_date'] - df_dates2['transaction_datetime']\n"
     ]
    },
    {
     "data": {
      "text/html": [
       "<div>\n",
       "<style scoped>\n",
       "    .dataframe tbody tr th:only-of-type {\n",
       "        vertical-align: middle;\n",
       "    }\n",
       "\n",
       "    .dataframe tbody tr th {\n",
       "        vertical-align: top;\n",
       "    }\n",
       "\n",
       "    .dataframe thead th {\n",
       "        text-align: right;\n",
       "    }\n",
       "</style>\n",
       "<table border=\"1\" class=\"dataframe\">\n",
       "  <thead>\n",
       "    <tr style=\"text-align: right;\">\n",
       "      <th></th>\n",
       "      <th>client_id</th>\n",
       "      <th>transaction_id</th>\n",
       "      <th>transaction_datetime</th>\n",
       "      <th>first_issue_date</th>\n",
       "      <th>delta</th>\n",
       "    </tr>\n",
       "  </thead>\n",
       "  <tbody>\n",
       "    <tr>\n",
       "      <th>222373</th>\n",
       "      <td>149478b823</td>\n",
       "      <td>6ed4148a00</td>\n",
       "      <td>2018-12-31 12:50:25</td>\n",
       "      <td>2019-01-01 04:05:52</td>\n",
       "      <td>0 days 15:15:27</td>\n",
       "    </tr>\n",
       "    <tr>\n",
       "      <th>1298198</th>\n",
       "      <td>7689a9ea9d</td>\n",
       "      <td>3841d17f7f</td>\n",
       "      <td>2019-02-26 11:09:17</td>\n",
       "      <td>2019-02-26 20:31:17</td>\n",
       "      <td>0 days 09:22:00</td>\n",
       "    </tr>\n",
       "    <tr>\n",
       "      <th>165314</th>\n",
       "      <td>0f6cd42f6a</td>\n",
       "      <td>ed732dfb5b</td>\n",
       "      <td>2019-02-26 10:46:01</td>\n",
       "      <td>2019-02-26 19:25:04</td>\n",
       "      <td>0 days 08:39:03</td>\n",
       "    </tr>\n",
       "    <tr>\n",
       "      <th>1725975</th>\n",
       "      <td>9d47bdc407</td>\n",
       "      <td>d54af4e399</td>\n",
       "      <td>2018-12-11 12:25:43</td>\n",
       "      <td>2018-12-11 20:08:26</td>\n",
       "      <td>0 days 07:42:43</td>\n",
       "    </tr>\n",
       "    <tr>\n",
       "      <th>2525247</th>\n",
       "      <td>e5e14ce6d4</td>\n",
       "      <td>7b48b47a70</td>\n",
       "      <td>2018-11-29 09:15:32</td>\n",
       "      <td>2018-11-29 16:50:29</td>\n",
       "      <td>0 days 07:34:57</td>\n",
       "    </tr>\n",
       "    <tr>\n",
       "      <th>...</th>\n",
       "      <td>...</td>\n",
       "      <td>...</td>\n",
       "      <td>...</td>\n",
       "      <td>...</td>\n",
       "      <td>...</td>\n",
       "    </tr>\n",
       "    <tr>\n",
       "      <th>387254</th>\n",
       "      <td>237f75c059</td>\n",
       "      <td>043f06a8ab</td>\n",
       "      <td>2018-12-30 10:47:14</td>\n",
       "      <td>2018-12-30 10:48:35</td>\n",
       "      <td>0 days 00:01:21</td>\n",
       "    </tr>\n",
       "    <tr>\n",
       "      <th>1831357</th>\n",
       "      <td>a7021ad220</td>\n",
       "      <td>b1ceaa2b37</td>\n",
       "      <td>2018-12-28 14:06:02</td>\n",
       "      <td>2018-12-28 14:07:13</td>\n",
       "      <td>0 days 00:01:11</td>\n",
       "    </tr>\n",
       "    <tr>\n",
       "      <th>2050275</th>\n",
       "      <td>babdc21558</td>\n",
       "      <td>3874cb28e0</td>\n",
       "      <td>2019-03-08 10:22:31</td>\n",
       "      <td>2019-03-08 10:23:03</td>\n",
       "      <td>0 days 00:00:32</td>\n",
       "    </tr>\n",
       "    <tr>\n",
       "      <th>198597</th>\n",
       "      <td>127163689c</td>\n",
       "      <td>730a0d5ec0</td>\n",
       "      <td>2018-12-19 17:04:02</td>\n",
       "      <td>2018-12-19 17:04:19</td>\n",
       "      <td>0 days 00:00:17</td>\n",
       "    </tr>\n",
       "    <tr>\n",
       "      <th>387255</th>\n",
       "      <td>237f75c059</td>\n",
       "      <td>e5d7756a27</td>\n",
       "      <td>2018-12-30 10:48:24</td>\n",
       "      <td>2018-12-30 10:48:35</td>\n",
       "      <td>0 days 00:00:11</td>\n",
       "    </tr>\n",
       "  </tbody>\n",
       "</table>\n",
       "<p>19241 rows × 5 columns</p>\n",
       "</div>"
      ],
      "text/plain": [
       "          client_id transaction_id transaction_datetime    first_issue_date  \\\n",
       "222373   149478b823     6ed4148a00  2018-12-31 12:50:25 2019-01-01 04:05:52   \n",
       "1298198  7689a9ea9d     3841d17f7f  2019-02-26 11:09:17 2019-02-26 20:31:17   \n",
       "165314   0f6cd42f6a     ed732dfb5b  2019-02-26 10:46:01 2019-02-26 19:25:04   \n",
       "1725975  9d47bdc407     d54af4e399  2018-12-11 12:25:43 2018-12-11 20:08:26   \n",
       "2525247  e5e14ce6d4     7b48b47a70  2018-11-29 09:15:32 2018-11-29 16:50:29   \n",
       "...             ...            ...                  ...                 ...   \n",
       "387254   237f75c059     043f06a8ab  2018-12-30 10:47:14 2018-12-30 10:48:35   \n",
       "1831357  a7021ad220     b1ceaa2b37  2018-12-28 14:06:02 2018-12-28 14:07:13   \n",
       "2050275  babdc21558     3874cb28e0  2019-03-08 10:22:31 2019-03-08 10:23:03   \n",
       "198597   127163689c     730a0d5ec0  2018-12-19 17:04:02 2018-12-19 17:04:19   \n",
       "387255   237f75c059     e5d7756a27  2018-12-30 10:48:24 2018-12-30 10:48:35   \n",
       "\n",
       "                  delta  \n",
       "222373  0 days 15:15:27  \n",
       "1298198 0 days 09:22:00  \n",
       "165314  0 days 08:39:03  \n",
       "1725975 0 days 07:42:43  \n",
       "2525247 0 days 07:34:57  \n",
       "...                 ...  \n",
       "387254  0 days 00:01:21  \n",
       "1831357 0 days 00:01:11  \n",
       "2050275 0 days 00:00:32  \n",
       "198597  0 days 00:00:17  \n",
       "387255  0 days 00:00:11  \n",
       "\n",
       "[19241 rows x 5 columns]"
      ]
     },
     "execution_count": 15,
     "metadata": {},
     "output_type": "execute_result"
    }
   ],
   "source": [
    "df_train_purch_date = df_train_purch[['client_id','transaction_id','transaction_datetime']].drop_duplicates()\n",
    "df_clients_cut = df_clients2[['client_id','first_issue_date']]\n",
    "df_dates = df_train_purch_date.merge(df_clients_cut, on='client_id')\n",
    "df_dates2 = df_dates[df_dates['first_issue_date'] > df_dates['transaction_datetime']]\n",
    "df_dates2['delta'] = df_dates2['first_issue_date'] - df_dates2['transaction_datetime']\n",
    "print(df_dates2.delta.mean())\n",
    "df_dates2.sort_values('delta',ascending=False)"
   ]
  },
  {
   "cell_type": "code",
   "execution_count": null,
   "metadata": {},
   "outputs": [],
   "source": []
  }
 ],
 "metadata": {
  "kernelspec": {
   "display_name": "Python 3",
   "language": "python",
   "name": "python3"
  },
  "language_info": {
   "codemirror_mode": {
    "name": "ipython",
    "version": 3
   },
   "file_extension": ".py",
   "mimetype": "text/x-python",
   "name": "python",
   "nbconvert_exporter": "python",
   "pygments_lexer": "ipython3",
   "version": "3.8.5"
  }
 },
 "nbformat": 4,
 "nbformat_minor": 4
}
